{
 "cells": [
  {
   "cell_type": "code",
   "execution_count": 1,
   "id": "4053d0c5",
   "metadata": {},
   "outputs": [],
   "source": [
    "import numpy as np\n",
    "import matplotlib\n",
    "from matplotlib import pyplot as plt\n",
    "\n",
    "from IPython.display import display, clear_output\n",
    "from ipywidgets import *\n",
    "\n",
    "from magpie import magpie"
   ]
  },
  {
   "cell_type": "code",
   "execution_count": 2,
   "id": "afc7f438",
   "metadata": {},
   "outputs": [],
   "source": [
    "%matplotlib inline\n",
    "\n",
    "Lx = 1.1; Ly = 1.1; Lz = 5e-3\n",
    "ldim = [Lx, Ly, Lz]  # -- plate dimensions [x, y, z] in metres\n",
    "E = 9.0e+9           # -- Young's mod [Pa]\n",
    "rho = 8765           # -- density [kg/m^3]\n",
    "nu = 0.3             # -- poisson's ratio\n",
    "Nmodes = 4           # -- number of modes to compute\n",
    "h = np.sqrt(Lx * Ly) * 0.05   # -- grid spacing\n",
    "BCs = np.ones((4, 2)) * 1e15 # -- elastic constants around the edges\n",
    "\n",
    "chladni_plot = Output();\n",
    "\n",
    "\n",
    "def plot_mode_shapes(K0y, Kx0, KLy, KxL, R0y, Rx0, RLy, RxL):\n",
    "    \"\"\"\n",
    "    \"\"\"\n",
    "    \n",
    "    BCs = np.array([[Kx0,Rx0],[K0y,R0y],[KxL,RxL],[KLy,RLy]], dtype=np.float64)\n",
    "    m = 2\n",
    "\n",
    "    with chladni_plot:\n",
    "        \n",
    "        Q, Om, N, biharm = magpie(rho, E, nu, ldim, h, BCs, Nmodes)\n",
    "        for m in range(Nmodes):\n",
    "            mode_shapes = [np.real(np.reshape(Q[:, m], [N['x'], N['y']])) for m in range(Nmodes)]\n",
    "\n",
    "        clear_output(wait=True)\n",
    "        \n",
    "        fig = plt.figure(figsize=(4,4))\n",
    "        ax = fig.add_subplot(111)\n",
    "\n",
    "        Z = abs(mode_shapes[m])\n",
    "        chladni = plt.pcolormesh(Z.T, cmap='copper_r', shading='gouraud')\n",
    "        ax.set_axis_off()\n",
    "        cmax = np.max(abs(mode_shapes[m])) * 0.25\n",
    "        chladni.set_clim(0.00, cmax)\n",
    "        \n",
    "\n",
    "        plt.plot()        \n",
    "        plt.show()        "
   ]
  },
  {
   "cell_type": "code",
   "execution_count": 53,
   "id": "b4f9b17e",
   "metadata": {},
   "outputs": [
    {
     "data": {
      "application/vnd.jupyter.widget-view+json": {
       "model_id": "0dbb6a7e1ac045b7a5d88f4fbdd7c702",
       "version_major": 2,
       "version_minor": 0
      },
      "text/plain": [
       "Output()"
      ]
     },
     "execution_count": 53,
     "metadata": {},
     "output_type": "execute_result"
    }
   ],
   "source": [
    "labels = ['K0y', 'Kx0', 'KLy', 'KxL', 'R0y', 'Rx0', 'RLy', 'RxL']\n",
    "\n",
    "sliders =  {label:FloatLogSlider(\n",
    "    value=0.0, base=10, min=0, max=15,\n",
    "    description=label,\n",
    "    continuous_update=True,\n",
    "    orientation='vertical' if 'x' in label else 'horizontal',\n",
    "    readout_format='.1e',\n",
    "    layout=Layout(flex='1 1 1', width='auto')\n",
    ") for label in labels}\n",
    "\n",
    "\n",
    "sliders['Rx0'] = FloatSlider(value=0.05, min=113.99043015, max=113.990430165, step=0.0000000001,readout=True ,orientation='vertical')\n",
    "\n",
    "interactive_output(plot_mode_shapes, sliders)\n"
   ]
  },
  {
   "cell_type": "code",
   "execution_count": 4,
   "id": "b2eb029f",
   "metadata": {},
   "outputs": [],
   "source": [
    "form_item_layout = Layout(\n",
    "    display='flex',\n",
    "    flex_flow='row',\n",
    "    justify_content='center'\n",
    ")\n",
    "\n",
    "form_items = [\n",
    "    Box([Label(value='Dimensions'), \n",
    "         BoundedFloatText(min=0.2, max=2.0, description='X [m]'),\n",
    "         BoundedFloatText(min=0.2, max=2.0, description='Y [m]'),\n",
    "         BoundedFloatText(min=0.001, max=0.01, description='thickness [m]')], layout=form_item_layout),\n",
    "    Box([Label(value='Material'), \n",
    "         Dropdown(options=[\"steel\", \"gold\", \"silver\", \"copper\", \"aluminium\"])], layout=form_item_layout),\n",
    "    Box([Label(value=''), \n",
    "         BoundedFloatText(min=0.2, max=2.0, description='Young\\'s',disabled=True,),\n",
    "         BoundedFloatText(min=0.2, max=2.0, description='Density',disabled=True,),\n",
    "         BoundedFloatText(min=0.001, max=0.01, description='Poisson\\'s',disabled=True,)], layout=form_item_layout),\n",
    "    Box([Label(value='Resolution'), FloatSlider(value=0.05, min=0.005, max=0.05, step=0.001, \n",
    "                                                readout=True, readout_format='.3f',)], layout=form_item_layout)\n",
    "]\n",
    "\n",
    "form = Box(form_items, layout=Layout(\n",
    "    display='flex',\n",
    "    flex_flow='column',\n",
    "    border='solid 2px',\n",
    "    align_items='stretch',\n",
    "    width='auto',\n",
    "))\n",
    "\n"
   ]
  },
  {
   "cell_type": "code",
   "execution_count": 54,
   "id": "e78b6922",
   "metadata": {},
   "outputs": [
    {
     "data": {
      "application/vnd.jupyter.widget-view+json": {
       "model_id": "f43b39381aed4001b85f7536d43db364",
       "version_major": 2,
       "version_minor": 0
      },
      "text/plain": [
       "VBox(children=(Box(children=(Box(children=(Label(value='Dimensions'), BoundedFloatText(value=0.2, description=…"
      ]
     },
     "metadata": {},
     "output_type": "display_data"
    }
   ],
   "source": [
    "\n",
    "plot_mode_shapes(*[s.value for s in sliders.values()])\n",
    "\n",
    "display(\n",
    "    VBox([form,\n",
    "          VBox([sliders['KLy'],sliders['RLy']]),\n",
    "          HBox([sliders['Kx0'],sliders['Rx0'],chladni_plot, sliders['KxL'],sliders['RxL']]),\n",
    "          VBox([sliders['K0y'],sliders['R0y']])])\n",
    ")"
   ]
  }
 ],
 "metadata": {
  "kernelspec": {
   "display_name": "Python 3 (ipykernel)",
   "language": "python",
   "name": "python3"
  },
  "language_info": {
   "codemirror_mode": {
    "name": "ipython",
    "version": 3
   },
   "file_extension": ".py",
   "mimetype": "text/x-python",
   "name": "python",
   "nbconvert_exporter": "python",
   "pygments_lexer": "ipython3",
   "version": "3.11.5"
  }
 },
 "nbformat": 4,
 "nbformat_minor": 5
}
