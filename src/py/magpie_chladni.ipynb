{
 "cells": [
  {
   "cell_type": "code",
   "execution_count": null,
   "id": "9201a13f",
   "metadata": {},
   "outputs": [],
   "source": [
    "import numpy as np\n",
    "import matplotlib\n",
    "from matplotlib import pyplot as plt\n",
    "\n",
    "from IPython.display import display, clear_output\n",
    "from ipywidgets import Layout, Button, Box, FloatText, Textarea, Dropdown, Label\n",
    "from ipywidgets import interactive_output, interact, fixed, FloatLogSlider, HBox, Layout, Output, VBox\n",
    "\n",
    "from magpie import magpie"
   ]
  },
  {
   "cell_type": "code",
   "execution_count": null,
   "id": "4ef9162b",
   "metadata": {},
   "outputs": [],
   "source": [
    "labels = ['K0y', 'Kx0', 'KLy', 'KxL', 'R0y', 'Rx0', 'RLy', 'RxL']\n",
    "\n",
    "sliders =  {label:FloatLogSlider(\n",
    "    value=0.0, base=10, min=0, max=15,\n",
    "    description=label,\n",
    "    continuous_update=True,\n",
    "    orientation='vertical' if 'x' in label else 'horizontal',\n",
    "    readout_format='.1e',\n",
    "    layout=Layout(flex='1 1 1', width='auto')\n",
    ") for label in labels}\n"
   ]
  },
  {
   "cell_type": "code",
   "execution_count": null,
   "id": "38639ec3",
   "metadata": {},
   "outputs": [],
   "source": [
    "%matplotlib inline\n",
    "\n",
    "Lx = 1.1; Ly = 1.1; Lz = 5e-3\n",
    "ldim = [Lx, Ly, Lz]  # -- plate dimensions [x, y, z] in metres\n",
    "E = 9.0e+9           # -- Young's mod [Pa]\n",
    "rho = 8765           # -- density [kg/m^3]\n",
    "nu = 0.3             # -- poisson's ratio\n",
    "Nmodes = 4           # -- number of modes to compute\n",
    "h = np.sqrt(Lx * Ly) * 0.05   # -- grid spacing\n",
    "BCs = np.ones((4, 2)) * 1e15 # -- elastic constants around the edges\n",
    "\n",
    "chladni_plot = Output();\n",
    "\n",
    "\n",
    "def plot_mode_shapes(K0y, Kx0, KLy, KxL, R0y, Rx0, RLy, RxL):\n",
    "    BCs = np.array([[Kx0,Rx0],[K0y,R0y],[KxL,RxL],[KLy,RLy]], dtype=np.float64)\n",
    "    with chladni_plot:\n",
    "        \n",
    "        Q, Om, N, biharm = magpie(rho, E, nu, ldim, h, BCs, Nmodes)\n",
    "        for m in range(Nmodes):\n",
    "            mode_shapes = [np.real(np.reshape(Q[:, m], [N['x'], N['y']])) for m in range(Nmodes)]\n",
    "\n",
    "        clear_output(wait=True)\n",
    "        \n",
    "        fig = plt.figure(figsize=(4,4))\n",
    "        ax = fig.add_subplot(111)\n",
    "\n",
    "        Z = abs(mode_shapes[3])\n",
    "        chladni = plt.pcolormesh(Z.T, cmap='copper_r', shading='gouraud')\n",
    "        ax.set_axis_off()\n",
    "        chladni.set_clim(0.01, 0.05)\n",
    "        \n",
    "        plt.plot()        \n",
    "        plt.show()"
   ]
  },
  {
   "cell_type": "code",
   "execution_count": null,
   "id": "9f693d4e",
   "metadata": {},
   "outputs": [],
   "source": [
    "interactive_output(plot_mode_shapes, sliders)\n",
    "plot_mode_shapes(*[s.value for s in sliders.values()])\n",
    "\n",
    "display(\n",
    "    VBox([VBox([sliders['KLy'],sliders['RLy']]),\n",
    "          HBox([sliders['Kx0'],sliders['Rx0'],chladni_plot, sliders['KxL'],sliders['RxL']]),\n",
    "          VBox([sliders['K0y'],sliders['R0y']])])\n",
    ")"
   ]
  }
 ],
 "metadata": {
  "kernelspec": {
   "display_name": "Python 3 (ipykernel)",
   "language": "python",
   "name": "python3"
  },
  "language_info": {
   "codemirror_mode": {
    "name": "ipython",
    "version": 3
   },
   "file_extension": ".py",
   "mimetype": "text/x-python",
   "name": "python",
   "nbconvert_exporter": "python",
   "pygments_lexer": "ipython3",
   "version": "3.11.5"
  }
 },
 "nbformat": 4,
 "nbformat_minor": 5
}
